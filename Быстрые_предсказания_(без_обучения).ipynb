{
  "nbformat": 4,
  "nbformat_minor": 0,
  "metadata": {
    "colab": {
      "name": "Быстрые предсказания (без обучения).ipynb",
      "private_outputs": true,
      "provenance": [],
      "collapsed_sections": [
        "2LoeW4kT4MaN"
      ],
      "toc_visible": true,
      "mount_file_id": "1ZOBsMfndcva3s1v_iOVkY36LP_1GbWTj",
      "authorship_tag": "ABX9TyN+jpTzyVSeL168N6kGRwAN"
    },
    "kernelspec": {
      "name": "python3",
      "display_name": "Python 3"
    }
  },
  "cells": [
    {
      "cell_type": "code",
      "metadata": {
        "id": "XM_YS8ekAUMJ"
      },
      "source": [
        "import tensorflow.compat.v1 as tf\n",
        "tf.disable_v2_behavior()\n",
        "tf.compat.v1.enable_eager_execution()\n",
        "from keras.layers import Dense, LSTM, Reshape, BatchNormalization, Input, Conv2D, MaxPool2D, Lambda, Bidirectional\n",
        "from keras.models import Model\n",
        "from keras.activations import relu, sigmoid, softmax\n",
        "import keras.backend as K\n"
      ],
      "execution_count": null,
      "outputs": []
    },
    {
      "cell_type": "code",
      "metadata": {
        "id": "mEi9vzzBJxBE"
      },
      "source": [
        "!sudo apt install python3-pip\n",
        "!sudo -H pip3 install --upgrade pip\n",
        "!sudo -H python3.6 -m pip install -U pymupdf\n",
        "!pip install fitz\n",
        "!pip install frontend\n",
        "!pip install PyMuPDF==1.16.14\n",
        "# import frontend\n",
        "import fitz\n",
        "import shutil\n",
        "import os"
      ],
      "execution_count": null,
      "outputs": []
    },
    {
      "cell_type": "markdown",
      "metadata": {
        "id": "YtEllAwZ4JSL"
      },
      "source": [
        "# Модель"
      ]
    },
    {
      "cell_type": "code",
      "metadata": {
        "id": "8RP9-AGG3u9I"
      },
      "source": [
        "\n",
        "dataset = load_data_toloka1()\n",
        "\n",
        "act_model = create_base_model()\n",
        "\n",
        "act_model.load_weights('drive/My Drive/15k toloka/0231.hdf5')\n",
        "\n",
        "test_model(act_model, dataset)\n"
      ],
      "execution_count": null,
      "outputs": []
    },
    {
      "cell_type": "code",
      "metadata": {
        "id": "4EOG6k1cHWgD"
      },
      "source": [
        "# def take_from_pdf(name, num_pages = 10):\n",
        "    # report = pd.DataFrame(columns=[\"names\",\"labels\" , \"rows\" , \"cols\" , \"valls\" , \"signs\" , \"pages\"])\n",
        "import cv2\n",
        "from google.colab.patches import cv2_imshow\n",
        "\n",
        "name = \"/content/drive/My Drive/15k toloka/zuerich_1916-1920_positions.pdf\"\n",
        "folder = \"/content/test\"\n",
        "\n",
        "num_pages = 10\n",
        "# del_images()\n",
        "# extract_images(name, folder, num_pages)\n",
        "preds = []\n",
        "\n",
        "for page_name in os.listdir(path = folder):\n",
        "    page = get_page(os.path.join(folder, page_name))\n",
        "    cells = get_cells_per_page(page)\n",
        "    prediction = predict(cells)\n",
        "    # print(prediction)\n",
        "    # print(type(prediction))\n",
        "    preds.append(prediction)\n",
        "    # try:\n",
        "    #     cv2_imshow(np.array(prediction))\n",
        "    # except:\n",
        "    #     pass\n",
        "\n",
        "\n",
        "\n",
        "# del_images()"
      ],
      "execution_count": null,
      "outputs": []
    },
    {
      "cell_type": "code",
      "metadata": {
        "id": "zP8JYkx0OVrw"
      },
      "source": [
        "os.listdir(path = folder)"
      ],
      "execution_count": null,
      "outputs": []
    },
    {
      "cell_type": "code",
      "metadata": {
        "id": "ZFA-sYshzJ0-"
      },
      "source": [
        "import numpy as np\n",
        "import seaborn as sns\n",
        "sns.heatmap(np.array(preds[0]).T, vmin= 0, vmax = 10)"
      ],
      "execution_count": null,
      "outputs": []
    },
    {
      "cell_type": "code",
      "metadata": {
        "id": "OrBtHtihOytH"
      },
      "source": [
        "arr = np.array(preds[0]).T\n",
        "\n"
      ],
      "execution_count": null,
      "outputs": []
    },
    {
      "cell_type": "code",
      "metadata": {
        "id": "KqhXS4rjjpYB"
      },
      "source": [
        "sig_b = [-1,-1,-1,-1,1,1,1,1,1,1,1,1,-1,0,1,1,1,1,1,-1,-1,-1,-1,-1,-1,-1,-1,-1,-1,-1,-1,-1,-1,-1,-1,-1,-1,-1,-1,-1,-1,-1,-1,-1,-1,-1,-1,-1,-1,-1,-1,-1,-1,-1,-1,-1,-1,-1,-1,-1,-1,-1,-1,-1,-1]\n",
        "\n",
        "cluster = [1,1,1,1,2,2,3,3,3,4,4,4,5,0,6,6,6,6,6,7,8,8,8,8,8,8,8,8,8,8,8,8,8,8,8,8,8,8,8,8,8,8,8,8,8,8,8,8,8,8,8,8,9,10,10,10,10,10,10,10,10,10,10,10,10]\n"
      ],
      "execution_count": null,
      "outputs": []
    },
    {
      "cell_type": "code",
      "metadata": {
        "id": "pcn5IKLoptTd"
      },
      "source": [
        "len(b)"
      ],
      "execution_count": null,
      "outputs": []
    },
    {
      "cell_type": "code",
      "metadata": {
        "id": "XfT9UgzuktUN"
      },
      "source": [
        "print(len(sig_b), len(b))"
      ],
      "execution_count": null,
      "outputs": []
    },
    {
      "cell_type": "code",
      "metadata": {
        "id": "yep0IDXwWHGq"
      },
      "source": [
        "import math\n",
        "np.sin([0.,1.,2.])"
      ],
      "execution_count": null,
      "outputs": []
    },
    {
      "cell_type": "code",
      "metadata": {
        "id": "ylXBxDH4ThCD"
      },
      "source": [
        "import matplotlib.pyplot as plt\n",
        "\n",
        "num_dots = 12\n",
        "\n",
        "b = arr[2:2+num_dots,6] * math.pi / 180.\n",
        "l = arr[2:2+num_dots,10] * math.pi / 180.\n",
        "L = arr[2:2+num_dots, 11] * math.pi / 180.\n",
        "\n",
        "\n",
        "plt.rcParams[\"figure.figsize\"] = (10,10)\n",
        "plt.scatter(x = np.cos(l)*np.cos(b * sig_b[:num_dots]), y = -np.sin(b * sig_b[:num_dots]), c = cluster[:num_dots])\n",
        "\n",
        "circle1 = plt.Circle((0, 0), 1, color='b', fill=False)\n",
        "plt.gca().add_patch(circle1)\n",
        "plt.legend()\n",
        "plt.show()"
      ],
      "execution_count": null,
      "outputs": []
    },
    {
      "cell_type": "code",
      "metadata": {
        "id": "6w1gNAMIUVY5"
      },
      "source": [
        "l"
      ],
      "execution_count": null,
      "outputs": []
    },
    {
      "cell_type": "code",
      "metadata": {
        "id": "ys0S8RJndZVx"
      },
      "source": [
        "b"
      ],
      "execution_count": null,
      "outputs": []
    }
  ]
}