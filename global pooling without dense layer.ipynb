{
  "nbformat": 4,
  "nbformat_minor": 0,
  "metadata": {
    "colab": {
      "name": "global pooling without dense layer.ipynb",
      "provenance": []
    },
    "kernelspec": {
      "name": "python3",
      "display_name": "Python 3"
    },
    "accelerator": "GPU"
  },
  "cells": [
    {
      "cell_type": "code",
      "metadata": {
        "id": "z-sNZlH_K1nW",
        "colab_type": "code",
        "outputId": "7e827833-d3fc-4233-9d49-2a78b38999b9",
        "colab": {
          "base_uri": "https://localhost:8080/",
          "height": 457
        }
      },
      "source": [
        "from tensorflow.examples.tutorials.mnist import input_data\n",
        "from tensorflow.contrib.layers import xavier_initializer\n",
        "import tensorflow as tf\n",
        "\n",
        "tf.set_random_seed(66666)\n",
        "\n",
        "mnist = input_data.read_data_sets('MNIST_data', one_hot=True)\n",
        "\n",
        "xs = tf.placeholder(tf.float32, [None, None, None, 1])\n",
        "ys = tf.placeholder(tf.float32, [None, 10])"
      ],
      "execution_count": 1,
      "outputs": [
        {
          "output_type": "display_data",
          "data": {
            "text/html": [
              "<p style=\"color: red;\">\n",
              "The default version of TensorFlow in Colab will soon switch to TensorFlow 2.x.<br>\n",
              "We recommend you <a href=\"https://www.tensorflow.org/guide/migrate\" target=\"_blank\">upgrade</a> now \n",
              "or ensure your notebook will continue to use TensorFlow 1.x via the <code>%tensorflow_version 1.x</code> magic:\n",
              "<a href=\"https://colab.research.google.com/notebooks/tensorflow_version.ipynb\" target=\"_blank\">more info</a>.</p>\n"
            ],
            "text/plain": [
              "<IPython.core.display.HTML object>"
            ]
          },
          "metadata": {
            "tags": []
          }
        },
        {
          "output_type": "stream",
          "text": [
            "WARNING:tensorflow:From <ipython-input-1-5d3363531a1f>:7: read_data_sets (from tensorflow.contrib.learn.python.learn.datasets.mnist) is deprecated and will be removed in a future version.\n",
            "Instructions for updating:\n",
            "Please use alternatives such as official/mnist/dataset.py from tensorflow/models.\n",
            "WARNING:tensorflow:From /usr/local/lib/python3.6/dist-packages/tensorflow_core/contrib/learn/python/learn/datasets/mnist.py:260: maybe_download (from tensorflow.contrib.learn.python.learn.datasets.base) is deprecated and will be removed in a future version.\n",
            "Instructions for updating:\n",
            "Please write your own downloading logic.\n",
            "WARNING:tensorflow:From /usr/local/lib/python3.6/dist-packages/tensorflow_core/contrib/learn/python/learn/datasets/mnist.py:262: extract_images (from tensorflow.contrib.learn.python.learn.datasets.mnist) is deprecated and will be removed in a future version.\n",
            "Instructions for updating:\n",
            "Please use tf.data to implement this functionality.\n",
            "Extracting MNIST_data/train-images-idx3-ubyte.gz\n",
            "WARNING:tensorflow:From /usr/local/lib/python3.6/dist-packages/tensorflow_core/contrib/learn/python/learn/datasets/mnist.py:267: extract_labels (from tensorflow.contrib.learn.python.learn.datasets.mnist) is deprecated and will be removed in a future version.\n",
            "Instructions for updating:\n",
            "Please use tf.data to implement this functionality.\n",
            "Extracting MNIST_data/train-labels-idx1-ubyte.gz\n",
            "WARNING:tensorflow:From /usr/local/lib/python3.6/dist-packages/tensorflow_core/contrib/learn/python/learn/datasets/mnist.py:110: dense_to_one_hot (from tensorflow.contrib.learn.python.learn.datasets.mnist) is deprecated and will be removed in a future version.\n",
            "Instructions for updating:\n",
            "Please use tf.one_hot on tensors.\n",
            "Extracting MNIST_data/t10k-images-idx3-ubyte.gz\n",
            "Extracting MNIST_data/t10k-labels-idx1-ubyte.gz\n",
            "WARNING:tensorflow:From /usr/local/lib/python3.6/dist-packages/tensorflow_core/contrib/learn/python/learn/datasets/mnist.py:290: DataSet.__init__ (from tensorflow.contrib.learn.python.learn.datasets.mnist) is deprecated and will be removed in a future version.\n",
            "Instructions for updating:\n",
            "Please use alternatives such as official/mnist/dataset.py from tensorflow/models.\n"
          ],
          "name": "stdout"
        }
      ]
    },
    {
      "cell_type": "code",
      "metadata": {
        "id": "6SdlsBmOMUau",
        "colab_type": "code",
        "outputId": "b6abf07b-497e-49a6-8f61-aeaf5c7762d9",
        "colab": {
          "base_uri": "https://localhost:8080/",
          "height": 265
        }
      },
      "source": [
        "import matplotlib.pyplot as plt\n",
        "import numpy as np\n",
        "\n",
        "plt.hist((np.argmax(mnist.train.labels,axis = 1),np.argmax(mnist.test.labels,axis = 1)))\n",
        "plt.show()"
      ],
      "execution_count": 2,
      "outputs": [
        {
          "output_type": "display_data",
          "data": {
            "image/png": "[encoded data removed]",
            "text/plain": [
              "<Figure size 432x288 with 1 Axes>"
            ]
          },
          "metadata": {
            "tags": []
          }
        }
      ]
    },
    {
      "cell_type": "code",
      "metadata": {
        "id": "bxojhEJSOqhb",
        "colab_type": "code",
        "outputId": "8af9a19a-73d0-496e-8af6-e829a0096110",
        "colab": {
          "base_uri": "https://localhost:8080/",
          "height": 122
        }
      },
      "source": [
        "for i in range(5):\n",
        "  plt.subplot(1, 5, i+1)\n",
        "  plt.imshow(np.squeeze(np.reshape(mnist.train.images[i], newshape=[28,28])), cmap='gray')\n",
        "  plt.title(np.argmax(mnist.train.labels[i],axis = 0))\n",
        "plt.show()"
      ],
      "execution_count": 3,
      "outputs": [
        {
          "output_type": "display_data",
          "data": {
            "image/png": "[encoded data removed]",
            "text/plain": [
              "<Figure size 432x288 with 5 Axes>"
            ]
          },
          "metadata": {
            "tags": []
          }
        }
      ]
    },
    {
      "cell_type": "code",
      "metadata": {
        "id": "vDsoBdtoP7fz",
        "colab_type": "code",
        "colab": {}
      },
      "source": [
        "def conv_net(data):\n",
        "  # print(data.get_shape())\n",
        "  # input = tf.reshape(data, [-1, 28, 28, 1])\n",
        "  # print(\"hello mr sandman\", tf.shape(data))\n",
        "  \n",
        "  # Convolutional Layer #1\n",
        "  conv1 = tf.layers.conv2d(\n",
        "      inputs=data,\n",
        "      filters=32,\n",
        "      kernel_size=[3, 3],\n",
        "      padding=\"valid\",\n",
        "      activation=tf.nn.relu)\n",
        "\n",
        "  # Convolutional Layer #2\n",
        "  conv2 = tf.layers.conv2d(\n",
        "      inputs=conv1,\n",
        "      filters=32,\n",
        "      kernel_size=[3, 3],\n",
        "      padding=\"valid\",\n",
        "      activation=tf.nn.relu)\n",
        "\n",
        "  pool1 = tf.layers.max_pooling2d(inputs=conv2, pool_size=[2, 2], strides=2)\n",
        "\n",
        "  # Convolutional Layer #3\n",
        "  conv3 = tf.layers.conv2d(\n",
        "      inputs=pool1,\n",
        "      filters=64,\n",
        "      kernel_size=[3, 3],\n",
        "      padding=\"valid\",\n",
        "      activation=tf.nn.relu)\n",
        "\n",
        "  # Convolutional Layer #4\n",
        "  conv4 = tf.layers.conv2d(\n",
        "      inputs=conv3,\n",
        "      filters=64,\n",
        "      kernel_size=[3, 3],\n",
        "      padding=\"valid\",\n",
        "      activation=tf.nn.relu)\n",
        "\n",
        "  # Convolutional Layer #5\n",
        "  conv5 = tf.layers.conv2d(\n",
        "      inputs=conv4,\n",
        "      filters=128,\n",
        "      kernel_size=[3, 3],\n",
        "      padding=\"valid\",\n",
        "      activation=tf.nn.relu)\n",
        "\n",
        "  # Convolutional Layer #6\n",
        "  conv6 = tf.layers.conv2d(\n",
        "      inputs=conv5,\n",
        "      filters=10,\n",
        "      kernel_size=[3, 3],\n",
        "      padding=\"valid\",\n",
        "      activation=tf.nn.relu)\n",
        "\n",
        "  # pool2 = tf.layers.max_pooling2d(inputs=conv6, pool_size=[4, 4], strides=4)\n",
        "  pool2 = tf.reduce_max(input_tensor = conv6, axis = [1,2])\n",
        "\n",
        "  flat = tf.reshape(pool2, [-1, 10])\n",
        "\n",
        "  # prediction\n",
        "  predictions = tf.nn.softmax(flat)\n",
        "  return predictions"
      ],
      "execution_count": 0,
      "outputs": []
    },
    {
      "cell_type": "code",
      "metadata": {
        "id": "E072aXE4Qee_",
        "colab_type": "code",
        "outputId": "5c88ade1-c819-47b4-aa0a-1b1e411e8ed4",
        "colab": {
          "base_uri": "https://localhost:8080/",
          "height": 190
        }
      },
      "source": [
        "predictions = conv_net(xs)\n",
        "\n",
        "# cross_entropy = tf.reduce_mean(-tf.reduce_sum(ys * tf.log(predictions), reduction_indices=[1]))\n",
        "cross_entropy = tf.nn.softmax_cross_entropy_with_logits_v2(logits=predictions, labels=ys)\n",
        "\n",
        "train_step = tf.train.AdamOptimizer(0.001).minimize(cross_entropy)\n",
        "\n",
        "# compute the accuracy\n",
        "correct_predictions = tf.equal(tf.argmax(predictions, 1), tf.argmax(ys, 1))\n",
        "\n",
        "accuracy = tf.reduce_mean(tf.cast(correct_predictions, tf.float32))\n",
        "\n",
        "tmp = 0\n",
        "loss_log = []"
      ],
      "execution_count": 5,
      "outputs": [
        {
          "output_type": "stream",
          "text": [
            "WARNING:tensorflow:From <ipython-input-4-1e708d290c6a>:12: conv2d (from tensorflow.python.layers.convolutional) is deprecated and will be removed in a future version.\n",
            "Instructions for updating:\n",
            "Use `tf.keras.layers.Conv2D` instead.\n",
            "WARNING:tensorflow:From /usr/local/lib/python3.6/dist-packages/tensorflow_core/python/layers/convolutional.py:424: Layer.apply (from tensorflow.python.keras.engine.base_layer) is deprecated and will be removed in a future version.\n",
            "Instructions for updating:\n",
            "Please use `layer.__call__` method instead.\n",
            "WARNING:tensorflow:From <ipython-input-4-1e708d290c6a>:22: max_pooling2d (from tensorflow.python.layers.pooling) is deprecated and will be removed in a future version.\n",
            "Instructions for updating:\n",
            "Use keras.layers.MaxPooling2D instead.\n"
          ],
          "name": "stdout"
        }
      ]
    },
    {
      "cell_type": "code",
      "metadata": {
        "id": "9AN3ibf4Q7F1",
        "colab_type": "code",
        "outputId": "438e081f-9e6a-4f05-c629-723b9677f4e5",
        "colab": {
          "base_uri": "https://localhost:8080/",
          "height": 1000
        }
      },
      "source": [
        "from mnist_handling import complicater\n",
        "\n",
        "with tf.Session() as sess:\n",
        "    init = tf.global_variables_initializer()\n",
        "    sess.run(init)\n",
        "\n",
        "    for i in range(15000):\n",
        "        batch_xs, batch_ys = mnist.train.next_batch(256)\n",
        "        batch_xs = complicater(batch_xs)\n",
        "        los = sess.run(cross_entropy, feed_dict={xs: batch_xs, ys: batch_ys})\n",
        "        loss_log.append(los)\n",
        "\n",
        "        sess.run(train_step, feed_dict={xs: batch_xs, ys: batch_ys})\n",
        "\n",
        "        if (i + 1) % 100 == 0:\n",
        "            acc = sess.run(accuracy, feed_dict={\n",
        "                xs: complicater(mnist.test.images),\n",
        "                ys: mnist.test.labels\n",
        "            })\n",
        "            print(\"steps : %d \" % (i + 1), \"accuracy: \", acc)"
      ],
      "execution_count": 7,
      "outputs": [
        {
          "output_type": "stream",
          "text": [
            "steps : 100  accuracy:  0.6319\n",
            "steps : 200  accuracy:  0.653\n",
            "steps : 300  accuracy:  0.6774\n",
            "steps : 400  accuracy:  0.6798\n",
            "steps : 500  accuracy:  0.6843\n",
            "steps : 600  accuracy:  0.6886\n",
            "steps : 700  accuracy:  0.7274\n",
            "steps : 800  accuracy:  0.7847\n",
            "steps : 900  accuracy:  0.8751\n",
            "steps : 1000  accuracy:  0.8728\n",
            "steps : 1100  accuracy:  0.8847\n",
            "steps : 1200  accuracy:  0.8838\n",
            "steps : 1300  accuracy:  0.8849\n",
            "steps : 1400  accuracy:  0.8786\n",
            "steps : 1500  accuracy:  0.8845\n",
            "steps : 1600  accuracy:  0.8881\n",
            "steps : 1700  accuracy:  0.8894\n",
            "steps : 1800  accuracy:  0.8878\n",
            "steps : 1900  accuracy:  0.8911\n",
            "steps : 2000  accuracy:  0.8897\n",
            "steps : 2100  accuracy:  0.8906\n",
            "steps : 2200  accuracy:  0.891\n",
            "steps : 2300  accuracy:  0.8889\n",
            "steps : 2400  accuracy:  0.8902\n",
            "steps : 2500  accuracy:  0.8911\n",
            "steps : 2600  accuracy:  0.8902\n",
            "steps : 2700  accuracy:  0.8913\n",
            "steps : 2800  accuracy:  0.8884\n",
            "steps : 2900  accuracy:  0.8907\n",
            "steps : 3000  accuracy:  0.8905\n",
            "steps : 3100  accuracy:  0.8917\n",
            "steps : 3200  accuracy:  0.8885\n",
            "steps : 3300  accuracy:  0.8916\n",
            "steps : 3400  accuracy:  0.891\n",
            "steps : 3500  accuracy:  0.8922\n",
            "steps : 3600  accuracy:  0.8922\n",
            "steps : 3700  accuracy:  0.8909\n",
            "steps : 3800  accuracy:  0.8907\n",
            "steps : 3900  accuracy:  0.8928\n",
            "steps : 4000  accuracy:  0.891\n",
            "steps : 4100  accuracy:  0.8921\n",
            "steps : 4200  accuracy:  0.8934\n",
            "steps : 4300  accuracy:  0.8928\n",
            "steps : 4400  accuracy:  0.8929\n",
            "steps : 4500  accuracy:  0.8934\n",
            "steps : 4600  accuracy:  0.8939\n",
            "steps : 4700  accuracy:  0.8925\n",
            "steps : 4800  accuracy:  0.8897\n",
            "steps : 4900  accuracy:  0.8937\n",
            "steps : 5000  accuracy:  0.8934\n",
            "steps : 5100  accuracy:  0.8939\n",
            "steps : 5200  accuracy:  0.8919\n",
            "steps : 5300  accuracy:  0.8941\n",
            "steps : 5400  accuracy:  0.8928\n",
            "steps : 5500  accuracy:  0.8935\n",
            "steps : 5600  accuracy:  0.8923\n",
            "steps : 5700  accuracy:  0.8928\n",
            "steps : 5800  accuracy:  0.8921\n",
            "steps : 5900  accuracy:  0.8943\n",
            "steps : 6000  accuracy:  0.894\n",
            "steps : 6100  accuracy:  0.8935\n",
            "steps : 6200  accuracy:  0.8949\n",
            "steps : 6300  accuracy:  0.8944\n",
            "steps : 6400  accuracy:  0.8937\n",
            "steps : 6500  accuracy:  0.8937\n",
            "steps : 6600  accuracy:  0.8942\n",
            "steps : 6700  accuracy:  0.8935\n",
            "steps : 6800  accuracy:  0.8938\n",
            "steps : 6900  accuracy:  0.9573\n",
            "steps : 7000  accuracy:  0.9857\n",
            "steps : 7100  accuracy:  0.9856\n",
            "steps : 7200  accuracy:  0.9902\n",
            "steps : 7300  accuracy:  0.9901\n",
            "steps : 7400  accuracy:  0.9901\n",
            "steps : 7500  accuracy:  0.9891\n",
            "steps : 7600  accuracy:  0.9893\n",
            "steps : 7700  accuracy:  0.991\n",
            "steps : 7800  accuracy:  0.9882\n",
            "steps : 7900  accuracy:  0.9913\n",
            "steps : 8000  accuracy:  0.9909\n",
            "steps : 8100  accuracy:  0.9891\n",
            "steps : 8200  accuracy:  0.99\n",
            "steps : 8300  accuracy:  0.9896\n",
            "steps : 8400  accuracy:  0.9899\n",
            "steps : 8500  accuracy:  0.9916\n",
            "steps : 8600  accuracy:  0.9883\n",
            "steps : 8700  accuracy:  0.9898\n",
            "steps : 8800  accuracy:  0.9894\n",
            "steps : 8900  accuracy:  0.9911\n",
            "steps : 9000  accuracy:  0.9881\n",
            "steps : 9100  accuracy:  0.9906\n",
            "steps : 9200  accuracy:  0.9893\n",
            "steps : 9300  accuracy:  0.9855\n",
            "steps : 9400  accuracy:  0.9915\n",
            "steps : 9500  accuracy:  0.9912\n",
            "steps : 9600  accuracy:  0.9899\n",
            "steps : 9700  accuracy:  0.9897\n",
            "steps : 9800  accuracy:  0.9912\n",
            "steps : 9900  accuracy:  0.989\n",
            "steps : 10000  accuracy:  0.9898\n",
            "steps : 10100  accuracy:  0.9898\n",
            "steps : 10200  accuracy:  0.9859\n",
            "steps : 10300  accuracy:  0.9882\n",
            "steps : 10400  accuracy:  0.989\n",
            "steps : 10500  accuracy:  0.9875\n",
            "steps : 10600  accuracy:  0.9906\n",
            "steps : 10700  accuracy:  0.9883\n",
            "steps : 10800  accuracy:  0.9891\n",
            "steps : 10900  accuracy:  0.9893\n",
            "steps : 11000  accuracy:  0.9909\n",
            "steps : 11100  accuracy:  0.9882\n",
            "steps : 11200  accuracy:  0.99\n",
            "steps : 11300  accuracy:  0.9895\n",
            "steps : 11400  accuracy:  0.9916\n",
            "steps : 11500  accuracy:  0.9915\n",
            "steps : 11600  accuracy:  0.9891\n",
            "steps : 11700  accuracy:  0.9923\n",
            "steps : 11800  accuracy:  0.9895\n",
            "steps : 11900  accuracy:  0.9852\n",
            "steps : 12000  accuracy:  0.9871\n",
            "steps : 12100  accuracy:  0.9912\n",
            "steps : 12200  accuracy:  0.9865\n",
            "steps : 12300  accuracy:  0.9901\n",
            "steps : 12400  accuracy:  0.9908\n",
            "steps : 12500  accuracy:  0.9922\n",
            "steps : 12600  accuracy:  0.9916\n",
            "steps : 12700  accuracy:  0.9909\n",
            "steps : 12800  accuracy:  0.9903\n",
            "steps : 12900  accuracy:  0.9904\n",
            "steps : 13000  accuracy:  0.9897\n",
            "steps : 13100  accuracy:  0.9887\n",
            "steps : 13200  accuracy:  0.9914\n",
            "steps : 13300  accuracy:  0.9913\n",
            "steps : 13400  accuracy:  0.9881\n",
            "steps : 13500  accuracy:  0.9943\n",
            "steps : 13600  accuracy:  0.9909\n",
            "steps : 13700  accuracy:  0.9897\n",
            "steps : 13800  accuracy:  0.9879\n",
            "steps : 13900  accuracy:  0.9904\n",
            "steps : 14000  accuracy:  0.9897\n",
            "steps : 14100  accuracy:  0.9855\n",
            "steps : 14200  accuracy:  0.9888\n",
            "steps : 14300  accuracy:  0.9911\n",
            "steps : 14400  accuracy:  0.9908\n",
            "steps : 14500  accuracy:  0.9933\n",
            "steps : 14600  accuracy:  0.987\n",
            "steps : 14700  accuracy:  0.9881\n",
            "steps : 14800  accuracy:  0.9865\n",
            "steps : 14900  accuracy:  0.9874\n",
            "steps : 15000  accuracy:  0.9854\n"
          ],
          "name": "stdout"
        }
      ]
    },
    {
      "cell_type": "code",
      "metadata": {
        "id": "fYW8J7ftRUKZ",
        "colab_type": "code",
        "colab": {
          "base_uri": "https://localhost:8080/",
          "height": 265
        },
        "outputId": "1c49424c-0dcf-43bc-9d05-77338d6a9398"
      },
      "source": [
        "plt.plot([a.mean() for a in loss_log])\n",
        "plt.show()"
      ],
      "execution_count": 8,
      "outputs": [
        {
          "output_type": "display_data",
          "data": {
            "image/png": "[encoded data removed]",
            "text/plain": [
              "<Figure size 432x288 with 1 Axes>"
            ]
          },
          "metadata": {
            "tags": []
          }
        }
      ]
    },
    {
      "cell_type": "code",
      "metadata": {
        "id": "SNuo_M_jqlQH",
        "colab_type": "code",
        "colab": {
          "base_uri": "https://localhost:8080/",
          "height": 284
        },
        "outputId": "fde1e9f3-8af9-4c45-e441-716de901a56e"
      },
      "source": [
        "im = batch_xs[100,:,:,0].copy()\n",
        "# for i in range(len(im)):\n",
        "#   for j in range(len(im[i])):\n",
        "#     # im[i,j] = im[i,j]\n",
        "#     im[i,j] = im[i,j] + random.gauss(0,0.1) \n",
        "plt.imshow(np.squeeze(im), cmap='gray')"
      ],
      "execution_count": 18,
      "outputs": [
        {
          "output_type": "execute_result",
          "data": {
            "text/plain": [
              "<matplotlib.image.AxesImage at 0x7f900828e4e0>"
            ]
          },
          "metadata": {
            "tags": []
          },
          "execution_count": 18
        },
        {
          "output_type": "display_data",
          "data": {
            "image/png": "[encoded data removed]",
            "text/plain": [
              "<Figure size 432x288 with 1 Axes>"
            ]
          },
          "metadata": {
            "tags": []
          }
        }
      ]
    }
  ]
}