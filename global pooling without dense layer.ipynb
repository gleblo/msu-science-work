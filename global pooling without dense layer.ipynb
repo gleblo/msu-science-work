{
  "nbformat": 4,
  "nbformat_minor": 0,
  "metadata": {
    "colab": {
      "name": "Untitled2.ipynb",
      "provenance": []
    },
    "kernelspec": {
      "name": "python3",
      "display_name": "Python 3"
    },
    "accelerator": "GPU"
  },
  "cells": [
    {
      "cell_type": "code",
      "metadata": {
        "id": "z-sNZlH_K1nW",
        "colab_type": "code",
        "outputId": "4a8079a6-ea34-4cb7-edec-1346803c71f9",
        "colab": {
          "base_uri": "https://localhost:8080/",
          "height": 457
        }
      },
      "source": [
        "from tensorflow.examples.tutorials.mnist import input_data\n",
        "from tensorflow.contrib.layers import xavier_initializer\n",
        "import tensorflow as tf\n",
        "\n",
        "tf.set_random_seed(66666)\n",
        "\n",
        "mnist = input_data.read_data_sets('MNIST_data', one_hot=True)\n",
        "\n",
        "xs = tf.placeholder(tf.float32, [None, 784])\n",
        "ys = tf.placeholder(tf.float32, [None, 10])"
      ],
      "execution_count": 1,
      "outputs": [
        {
          "output_type": "display_data",
          "data": {
            "text/html": [
              "<p style=\"color: red;\">\n",
              "The default version of TensorFlow in Colab will soon switch to TensorFlow 2.x.<br>\n",
              "We recommend you <a href=\"https://www.tensorflow.org/guide/migrate\" target=\"_blank\">upgrade</a> now \n",
              "or ensure your notebook will continue to use TensorFlow 1.x via the <code>%tensorflow_version 1.x</code> magic:\n",
              "<a href=\"https://colab.research.google.com/notebooks/tensorflow_version.ipynb\" target=\"_blank\">more info</a>.</p>\n"
            ],
            "text/plain": [
              "<IPython.core.display.HTML object>"
            ]
          },
          "metadata": {
            "tags": []
          }
        },
        {
          "output_type": "stream",
          "text": [
            "WARNING:tensorflow:From <ipython-input-1-ae7adb0e54f3>:7: read_data_sets (from tensorflow.contrib.learn.python.learn.datasets.mnist) is deprecated and will be removed in a future version.\n",
            "Instructions for updating:\n",
            "Please use alternatives such as official/mnist/dataset.py from tensorflow/models.\n",
            "WARNING:tensorflow:From /usr/local/lib/python3.6/dist-packages/tensorflow_core/contrib/learn/python/learn/datasets/mnist.py:260: maybe_download (from tensorflow.contrib.learn.python.learn.datasets.base) is deprecated and will be removed in a future version.\n",
            "Instructions for updating:\n",
            "Please write your own downloading logic.\n",
            "WARNING:tensorflow:From /usr/local/lib/python3.6/dist-packages/tensorflow_core/contrib/learn/python/learn/datasets/mnist.py:262: extract_images (from tensorflow.contrib.learn.python.learn.datasets.mnist) is deprecated and will be removed in a future version.\n",
            "Instructions for updating:\n",
            "Please use tf.data to implement this functionality.\n",
            "Extracting MNIST_data/train-images-idx3-ubyte.gz\n",
            "WARNING:tensorflow:From /usr/local/lib/python3.6/dist-packages/tensorflow_core/contrib/learn/python/learn/datasets/mnist.py:267: extract_labels (from tensorflow.contrib.learn.python.learn.datasets.mnist) is deprecated and will be removed in a future version.\n",
            "Instructions for updating:\n",
            "Please use tf.data to implement this functionality.\n",
            "Extracting MNIST_data/train-labels-idx1-ubyte.gz\n",
            "WARNING:tensorflow:From /usr/local/lib/python3.6/dist-packages/tensorflow_core/contrib/learn/python/learn/datasets/mnist.py:110: dense_to_one_hot (from tensorflow.contrib.learn.python.learn.datasets.mnist) is deprecated and will be removed in a future version.\n",
            "Instructions for updating:\n",
            "Please use tf.one_hot on tensors.\n",
            "Extracting MNIST_data/t10k-images-idx3-ubyte.gz\n",
            "Extracting MNIST_data/t10k-labels-idx1-ubyte.gz\n",
            "WARNING:tensorflow:From /usr/local/lib/python3.6/dist-packages/tensorflow_core/contrib/learn/python/learn/datasets/mnist.py:290: DataSet.__init__ (from tensorflow.contrib.learn.python.learn.datasets.mnist) is deprecated and will be removed in a future version.\n",
            "Instructions for updating:\n",
            "Please use alternatives such as official/mnist/dataset.py from tensorflow/models.\n"
          ],
          "name": "stdout"
        }
      ]
    },
    {
      "cell_type": "code",
      "metadata": {
        "id": "6SdlsBmOMUau",
        "colab_type": "code",
        "outputId": "9598ccfb-ebe8-4e30-a8c0-a4c904471359",
        "colab": {
          "base_uri": "https://localhost:8080/",
          "height": 265
        }
      },
      "source": [
        "import matplotlib.pyplot as plt\n",
        "import numpy as np\n",
        "\n",
        "plt.hist((np.argmax(mnist.train.labels,axis = 1),np.argmax(mnist.test.labels,axis = 1)))\n",
        "plt.show()"
      ],
      "execution_count": 2,
      "outputs": [
        {
          "output_type": "display_data",
          "data": {
            "image/png": "[encoded data removed]",
            "text/plain": [
              "<Figure size 432x288 with 1 Axes>"
            ]
          },
          "metadata": {
            "tags": []
          }
        }
      ]
    },
    {
      "cell_type": "code",
      "metadata": {
        "id": "bxojhEJSOqhb",
        "colab_type": "code",
        "outputId": "2158cb73-6613-49df-cb80-f4fd3388ff40",
        "colab": {
          "base_uri": "https://localhost:8080/",
          "height": 122
        }
      },
      "source": [
        "for i in range(5):\n",
        "  plt.subplot(1, 5, i+1)\n",
        "  plt.imshow(np.squeeze(np.reshape(mnist.train.images[i], newshape=[28,28])), cmap='gray')\n",
        "  plt.title(np.argmax(mnist.train.labels[i],axis = 0))\n",
        "plt.show()"
      ],
      "execution_count": 3,
      "outputs": [
        {
          "output_type": "display_data",
          "data": {
            "image/png": "[encoded data removed]",
            "text/plain": [
              "<Figure size 432x288 with 5 Axes>"
            ]
          },
          "metadata": {
            "tags": []
          }
        }
      ]
    },
    {
      "cell_type": "code",
      "metadata": {
        "id": "vDsoBdtoP7fz",
        "colab_type": "code",
        "colab": {}
      },
      "source": [
        "def conv_net(data):\n",
        "  input = tf.reshape(data, [-1, 28, 28, 1])\n",
        "\n",
        "  # Convolutional Layer #1\n",
        "  conv1 = tf.layers.conv2d(\n",
        "      inputs=input,\n",
        "      filters=32,\n",
        "      kernel_size=[3, 3],\n",
        "      padding=\"valid\",\n",
        "      activation=tf.nn.relu)\n",
        "\n",
        "  # Convolutional Layer #2\n",
        "  conv2 = tf.layers.conv2d(\n",
        "      inputs=conv1,\n",
        "      filters=32,\n",
        "      kernel_size=[3, 3],\n",
        "      padding=\"valid\",\n",
        "      activation=tf.nn.relu)\n",
        "\n",
        "  pool1 = tf.layers.max_pooling2d(inputs=conv2, pool_size=[2, 2], strides=2)\n",
        "\n",
        "  # Convolutional Layer #3\n",
        "  conv3 = tf.layers.conv2d(\n",
        "      inputs=pool1,\n",
        "      filters=64,\n",
        "      kernel_size=[3, 3],\n",
        "      padding=\"valid\",\n",
        "      activation=tf.nn.relu)\n",
        "\n",
        "  # Convolutional Layer #4\n",
        "  conv4 = tf.layers.conv2d(\n",
        "      inputs=conv3,\n",
        "      filters=64,\n",
        "      kernel_size=[3, 3],\n",
        "      padding=\"valid\",\n",
        "      activation=tf.nn.relu)\n",
        "\n",
        "  # Convolutional Layer #5\n",
        "  conv5 = tf.layers.conv2d(\n",
        "      inputs=conv4,\n",
        "      filters=128,\n",
        "      kernel_size=[3, 3],\n",
        "      padding=\"valid\",\n",
        "      activation=tf.nn.relu)\n",
        "\n",
        "  # Convolutional Layer #6\n",
        "  conv6 = tf.layers.conv2d(\n",
        "      inputs=conv5,\n",
        "      filters=10,\n",
        "      kernel_size=[3, 3],\n",
        "      padding=\"valid\",\n",
        "      activation=tf.nn.relu)\n",
        "\n",
        "  # pool2 = tf.layers.max_pooling2d(inputs=conv6, pool_size=[4, 4], strides=4)\n",
        "  pool2 = tf.reduce_max(input_tensor = conv6, axis = [1,2])\n",
        "\n",
        "  flat = tf.reshape(pool2, [-1, 10])\n",
        "\n",
        "  # prediction\n",
        "  predictions = tf.nn.softmax(flat)\n",
        "  return predictions"
      ],
      "execution_count": 0,
      "outputs": []
    },
    {
      "cell_type": "code",
      "metadata": {
        "id": "E072aXE4Qee_",
        "colab_type": "code",
        "outputId": "ad53d61d-3512-4072-83d7-f61c3c1e4215",
        "colab": {
          "base_uri": "https://localhost:8080/",
          "height": 170
        }
      },
      "source": [
        "predictions = conv_net(xs)\n",
        "\n",
        "# cross_entropy = tf.reduce_mean(-tf.reduce_sum(ys * tf.log(predictions), reduction_indices=[1]))\n",
        "cross_entropy = tf.nn.softmax_cross_entropy_with_logits_v2(logits=predictions, labels=ys)\n",
        "\n",
        "train_step = tf.train.AdamOptimizer(0.001).minimize(cross_entropy)\n",
        "\n",
        "# compute the accuracy\n",
        "correct_predictions = tf.equal(tf.argmax(predictions, 1), tf.argmax(ys, 1))\n",
        "\n",
        "accuracy = tf.reduce_mean(tf.cast(correct_predictions, tf.float32))\n",
        "\n",
        "tmp = 0\n",
        "loss_log = []"
      ],
      "execution_count": 5,
      "outputs": [
        {
          "output_type": "stream",
          "text": [
            "WARNING:tensorflow:From <ipython-input-4-a915222ef88c>:10: conv2d (from tensorflow.python.layers.convolutional) is deprecated and will be removed in a future version.\n",
            "Instructions for updating:\n",
            "Use `tf.keras.layers.Conv2D` instead.\n",
            "WARNING:tensorflow:From /usr/local/lib/python3.6/dist-packages/tensorflow_core/python/layers/convolutional.py:424: Layer.apply (from tensorflow.python.keras.engine.base_layer) is deprecated and will be removed in a future version.\n",
            "Instructions for updating:\n",
            "Please use `layer.__call__` method instead.\n",
            "WARNING:tensorflow:From <ipython-input-4-a915222ef88c>:20: max_pooling2d (from tensorflow.python.layers.pooling) is deprecated and will be removed in a future version.\n",
            "Instructions for updating:\n",
            "Use keras.layers.MaxPooling2D instead.\n"
          ],
          "name": "stdout"
        }
      ]
    },
    {
      "cell_type": "code",
      "metadata": {
        "id": "9AN3ibf4Q7F1",
        "colab_type": "code",
        "outputId": "753b5bf5-f4f4-40fc-b40f-d793157567e5",
        "colab": {
          "base_uri": "https://localhost:8080/",
          "height": 867
        }
      },
      "source": [
        "with tf.Session() as sess:\n",
        "    init = tf.global_variables_initializer()\n",
        "    sess.run(init)\n",
        "\n",
        "    for i in range(5000):\n",
        "        batch_xs, batch_ys = mnist.train.next_batch(256)\n",
        "\n",
        "        los = sess.run(cross_entropy, feed_dict={xs: batch_xs, ys: batch_ys})\n",
        "        loss_log.append(los)\n",
        "\n",
        "        sess.run(train_step, feed_dict={xs: batch_xs, ys: batch_ys})\n",
        "\n",
        "        if (i + 1) % 100 == 0:\n",
        "            acc = sess.run(accuracy, feed_dict={\n",
        "                xs: mnist.test.images,\n",
        "                ys: mnist.test.labels\n",
        "            })\n",
        "            print(\"steps : %d \" % (i + 1), \"accuracy: \", acc)"
      ],
      "execution_count": 6,
      "outputs": [
        {
          "output_type": "stream",
          "text": [
            "steps : 100  accuracy:  0.6606\n",
            "steps : 200  accuracy:  0.6677\n",
            "steps : 300  accuracy:  0.7613\n",
            "steps : 400  accuracy:  0.7772\n",
            "steps : 500  accuracy:  0.7716\n",
            "steps : 600  accuracy:  0.7855\n",
            "steps : 700  accuracy:  0.7873\n",
            "steps : 800  accuracy:  0.7891\n",
            "steps : 900  accuracy:  0.7833\n",
            "steps : 1000  accuracy:  0.79\n",
            "steps : 1100  accuracy:  0.7914\n",
            "steps : 1200  accuracy:  0.7909\n",
            "steps : 1300  accuracy:  0.7922\n",
            "steps : 1400  accuracy:  0.7911\n",
            "steps : 1500  accuracy:  0.7923\n",
            "steps : 1600  accuracy:  0.7934\n",
            "steps : 1700  accuracy:  0.7927\n",
            "steps : 1800  accuracy:  0.7943\n",
            "steps : 1900  accuracy:  0.7944\n",
            "steps : 2000  accuracy:  0.7927\n",
            "steps : 2100  accuracy:  0.7947\n",
            "steps : 2200  accuracy:  0.8875\n",
            "steps : 2300  accuracy:  0.8941\n",
            "steps : 2400  accuracy:  0.8921\n",
            "steps : 2500  accuracy:  0.8934\n",
            "steps : 2600  accuracy:  0.895\n",
            "steps : 2700  accuracy:  0.8944\n",
            "steps : 2800  accuracy:  0.8945\n",
            "steps : 2900  accuracy:  0.8919\n",
            "steps : 3000  accuracy:  0.8939\n",
            "steps : 3100  accuracy:  0.8941\n",
            "steps : 3200  accuracy:  0.8953\n",
            "steps : 3300  accuracy:  0.8957\n",
            "steps : 3400  accuracy:  0.8952\n",
            "steps : 3500  accuracy:  0.8952\n",
            "steps : 3600  accuracy:  0.9809\n",
            "steps : 3700  accuracy:  0.9884\n",
            "steps : 3800  accuracy:  0.9908\n",
            "steps : 3900  accuracy:  0.9654\n",
            "steps : 4000  accuracy:  0.9897\n",
            "steps : 4100  accuracy:  0.9898\n",
            "steps : 4200  accuracy:  0.9857\n",
            "steps : 4300  accuracy:  0.9869\n",
            "steps : 4400  accuracy:  0.9903\n",
            "steps : 4500  accuracy:  0.9907\n",
            "steps : 4600  accuracy:  0.9875\n",
            "steps : 4700  accuracy:  0.9894\n",
            "steps : 4800  accuracy:  0.9907\n",
            "steps : 4900  accuracy:  0.9922\n",
            "steps : 5000  accuracy:  0.9898\n"
          ],
          "name": "stdout"
        }
      ]
    },
    {
      "cell_type": "code",
      "metadata": {
        "id": "fYW8J7ftRUKZ",
        "colab_type": "code",
        "outputId": "84112bca-c274-4692-eb37-e1a98faaa8c6",
        "colab": {
          "base_uri": "https://localhost:8080/",
          "height": 265
        }
      },
      "source": [
        "plt.plot([a.mean() for a in loss_log])\n",
        "plt.show()"
      ],
      "execution_count": 7,
      "outputs": [
        {
          "output_type": "display_data",
          "data": {
            "image/png": "[encoded data removed]",
            "text/plain": [
              "<Figure size 432x288 with 1 Axes>"
            ]
          },
          "metadata": {
            "tags": []
          }
        }
      ]
    }
  ]
}