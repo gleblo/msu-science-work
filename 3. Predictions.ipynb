{
  "nbformat": 4,
  "nbformat_minor": 0,
  "metadata": {
    "colab": {
      "name": "3. Predictions.ipynb",
      "private_outputs": true,
      "provenance": [],
      "collapsed_sections": [
        "2LoeW4kT4MaN"
      ],
      "toc_visible": true,
      "mount_file_id": "1ZOBsMfndcva3s1v_iOVkY36LP_1GbWTj",
      "authorship_tag": "ABX9TyNkgbGBTJVKrs/S+LLP1BYl"
    },
    "kernelspec": {
      "name": "python3",
      "display_name": "Python 3"
    }
  },
  "cells": [
    {
      "cell_type": "code",
      "metadata": {
        "id": "XM_YS8ekAUMJ"
      },
      "source": [
        "import tensorflow.compat.v1 as tf\n",
        "tf.disable_v2_behavior()\n",
        "tf.compat.v1.enable_eager_execution()\n",
        "from keras.layers import Dense, LSTM, Reshape, BatchNormalization, Input, Conv2D, MaxPool2D, Lambda, Bidirectional\n",
        "from keras.models import Model\n",
        "from keras.activations import relu, sigmoid, softmax\n",
        "import keras.backend as K\n"
      ],
      "execution_count": null,
      "outputs": []
    },
    {
      "cell_type": "code",
      "metadata": {
        "id": "mEi9vzzBJxBE"
      },
      "source": [
        "!sudo apt install python3-pip\n",
        "!sudo -H pip3 install --upgrade pip\n",
        "!sudo -H python3.6 -m pip install -U pymupdf\n",
        "!pip install fitz\n",
        "!pip install frontend\n",
        "!pip install PyMuPDF==1.16.14\n",
        "# import frontend\n",
        "import fitz\n",
        "import shutil\n",
        "import os"
      ],
      "execution_count": null,
      "outputs": []
    },
    {
      "cell_type": "markdown",
      "metadata": {
        "id": "YtEllAwZ4JSL"
      },
      "source": [
        "## Loading model and dataset"
      ]
    },
    {
      "cell_type": "code",
      "metadata": {
        "id": "8RP9-AGG3u9I"
      },
      "source": [
        "import fast_pred\n",
        "\n",
        "dataset = fast_pred.load_data_toloka1()\n",
        "\n",
        "act_model = fast_pred.create_base_model()\n",
        "\n",
        "act_model.load_weights('drive/My Drive/15k toloka/0231.hdf5')\n",
        "\n",
        "fast_pred.test_model(act_model, dataset)\n"
      ],
      "execution_count": null,
      "outputs": []
    },
    {
      "cell_type": "code",
      "metadata": {
        "id": "4EOG6k1cHWgD"
      },
      "source": [
        "import cv2\n",
        "from google.colab.patches import cv2_imshow\n",
        "\n",
        "name = \"/content/drive/My Drive/15k toloka/zuerich_1916-1920_positions.pdf\"\n",
        "folder = \"/content/test\"\n",
        "\n",
        "num_pages = 10\n",
        "\n",
        "preds = []\n",
        "\n",
        "# Put desired image in the folder\n",
        "for page_name in os.listdir(path = folder):\n",
        "    page = get_page(os.path.join(folder, page_name))\n",
        "    print(page)\n",
        "    print(os.path.join(folder, page_name))\n",
        "    cells = get_cells_per_page(page)\n",
        "    \n",
        "    prediction = predict(cells)\n",
        "    preds.append(prediction)\n",
        "\n",
        "\n",
        "\n"
      ],
      "execution_count": null,
      "outputs": []
    },
    {
      "cell_type": "markdown",
      "metadata": {
        "id": "LyHKH8fl7RKV"
      },
      "source": [
        "## Plotting on a disk"
      ]
    },
    {
      "cell_type": "code",
      "metadata": {
        "id": "KqhXS4rjjpYB"
      },
      "source": [
        "sig_b = [-1,-1,-1,-1,1,1,1,1,1,1,1,1,-1,0,1,1,1,1,1,-1,-1,-1,-1,-1,-1,-1,-1,-1,-1,-1,-1,-1,-1,-1,-1,-1,-1,-1,-1,-1,-1,-1,-1,-1,-1,-1,-1,-1,-1,-1,-1,-1,-1,-1,-1,-1,-1,-1,-1,-1,-1,-1,-1,-1,-1]\n",
        "\n",
        "cluster = [1,1,1,1,2,2,3,3,3,4,4,4,5,0,6,6,6,6,6,7,8,8,8,8,8,8,8,8,8,8,8,8,8,8,8,8,8,8,8,8,8,8,8,8,8,8,8,8,8,8,8,8,9,10,10,10,10,10,10,10,10,10,10,10,10]\n"
      ],
      "execution_count": null,
      "outputs": []
    },
    {
      "cell_type": "code",
      "metadata": {
        "id": "ylXBxDH4ThCD"
      },
      "source": [
        "import matplotlib.pyplot as plt\n",
        "import math\n",
        "\n",
        "arr = np.array(preds[0]).T\n",
        "num_dots = 12\n",
        "\n",
        "b = arr[2:2+num_dots,6] * math.pi / 180.\n",
        "l = arr[2:2+num_dots,10] * math.pi / 180.\n",
        "L = arr[2:2+num_dots, 11] * math.pi / 180.\n",
        "\n",
        "\n",
        "plt.rcParams[\"figure.figsize\"] = (10,10)\n",
        "plt.scatter(x = np.cos(l)*np.cos(b * sig_b[:num_dots]), y = -np.sin(b * sig_b[:num_dots]), c = cluster[:num_dots])\n",
        "\n",
        "circle1 = plt.Circle((0, 0), 1, color='b', fill=False)\n",
        "plt.gca().add_patch(circle1)\n",
        "plt.legend()\n",
        "plt.show()"
      ],
      "execution_count": null,
      "outputs": []
    }
  ]
}