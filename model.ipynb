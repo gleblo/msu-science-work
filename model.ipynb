{
  "nbformat": 4,
  "nbformat_minor": 0,
  "metadata": {
    "colab": {
      "name": "tf complicater.ipynb",
      "provenance": [],
      "collapsed_sections": []
    },
    "kernelspec": {
      "name": "python3",
      "display_name": "Python 3"
    },
    "accelerator": "GPU"
  },
  "cells": [
    {
      "cell_type": "code",
      "metadata": {
        "id": "z-sNZlH_K1nW",
        "colab_type": "code",
        "outputId": "c2bf2528-feec-4295-b9aa-d1566b3206ed",
        "colab": {
          "base_uri": "https://localhost:8080/",
          "height": 576
        }
      },
      "source": [
        "from tensorflow.examples.tutorials.mnist import input_data\n",
        "from tensorflow.contrib.layers import xavier_initializer\n",
        "import tensorflow as tf\n",
        "import mnist_handling as mn\n",
        "\n",
        "tf.set_random_seed(66666)\n",
        "\n",
        "mnist = input_data.read_data_sets('MNIST_data', one_hot=True)\n",
        "\n",
        "xs = tf.placeholder(tf.float32, [None, 784])\n",
        "ys = tf.placeholder(tf.float32, [None, 10])"
      ],
      "execution_count": 1,
      "outputs": [
        {
          "output_type": "display_data",
          "data": {
            "text/html": [
              "<p style=\"color: red;\">\n",
              "The default version of TensorFlow in Colab will soon switch to TensorFlow 2.x.<br>\n",
              "We recommend you <a href=\"https://www.tensorflow.org/guide/migrate\" target=\"_blank\">upgrade</a> now \n",
              "or ensure your notebook will continue to use TensorFlow 1.x via the <code>%tensorflow_version 1.x</code> magic:\n",
              "<a href=\"https://colab.research.google.com/notebooks/tensorflow_version.ipynb\" target=\"_blank\">more info</a>.</p>\n"
            ],
            "text/plain": [
              "<IPython.core.display.HTML object>"
            ]
          },
          "metadata": {
            "tags": []
          }
        },
        {
          "output_type": "stream",
          "text": [
            "WARNING:tensorflow:From <ipython-input-1-eaac353e4ddc>:8: read_data_sets (from tensorflow.contrib.learn.python.learn.datasets.mnist) is deprecated and will be removed in a future version.\n",
            "Instructions for updating:\n",
            "Please use alternatives such as official/mnist/dataset.py from tensorflow/models.\n",
            "WARNING:tensorflow:From /usr/local/lib/python3.6/dist-packages/tensorflow_core/contrib/learn/python/learn/datasets/mnist.py:260: maybe_download (from tensorflow.contrib.learn.python.learn.datasets.base) is deprecated and will be removed in a future version.\n",
            "Instructions for updating:\n",
            "Please write your own downloading logic.\n",
            "WARNING:tensorflow:From /usr/local/lib/python3.6/dist-packages/tensorflow_core/contrib/learn/python/learn/datasets/base.py:252: _internal_retry.<locals>.wrap.<locals>.wrapped_fn (from tensorflow.contrib.learn.python.learn.datasets.base) is deprecated and will be removed in a future version.\n",
            "Instructions for updating:\n",
            "Please use urllib or similar directly.\n",
            "Successfully downloaded train-images-idx3-ubyte.gz 9912422 bytes.\n",
            "WARNING:tensorflow:From /usr/local/lib/python3.6/dist-packages/tensorflow_core/contrib/learn/python/learn/datasets/mnist.py:262: extract_images (from tensorflow.contrib.learn.python.learn.datasets.mnist) is deprecated and will be removed in a future version.\n",
            "Instructions for updating:\n",
            "Please use tf.data to implement this functionality.\n",
            "Extracting MNIST_data/train-images-idx3-ubyte.gz\n",
            "Successfully downloaded train-labels-idx1-ubyte.gz 28881 bytes.\n",
            "WARNING:tensorflow:From /usr/local/lib/python3.6/dist-packages/tensorflow_core/contrib/learn/python/learn/datasets/mnist.py:267: extract_labels (from tensorflow.contrib.learn.python.learn.datasets.mnist) is deprecated and will be removed in a future version.\n",
            "Instructions for updating:\n",
            "Please use tf.data to implement this functionality.\n",
            "Extracting MNIST_data/train-labels-idx1-ubyte.gz\n",
            "WARNING:tensorflow:From /usr/local/lib/python3.6/dist-packages/tensorflow_core/contrib/learn/python/learn/datasets/mnist.py:110: dense_to_one_hot (from tensorflow.contrib.learn.python.learn.datasets.mnist) is deprecated and will be removed in a future version.\n",
            "Instructions for updating:\n",
            "Please use tf.one_hot on tensors.\n",
            "Successfully downloaded t10k-images-idx3-ubyte.gz 1648877 bytes.\n",
            "Extracting MNIST_data/t10k-images-idx3-ubyte.gz\n",
            "Successfully downloaded t10k-labels-idx1-ubyte.gz 4542 bytes.\n",
            "Extracting MNIST_data/t10k-labels-idx1-ubyte.gz\n",
            "WARNING:tensorflow:From /usr/local/lib/python3.6/dist-packages/tensorflow_core/contrib/learn/python/learn/datasets/mnist.py:290: DataSet.__init__ (from tensorflow.contrib.learn.python.learn.datasets.mnist) is deprecated and will be removed in a future version.\n",
            "Instructions for updating:\n",
            "Please use alternatives such as official/mnist/dataset.py from tensorflow/models.\n"
          ],
          "name": "stdout"
        }
      ]
    },
    {
      "cell_type": "code",
      "metadata": {
        "id": "6SdlsBmOMUau",
        "colab_type": "code",
        "outputId": "967ada0e-5ca6-4b2c-ad11-a866972e503b",
        "colab": {
          "base_uri": "https://localhost:8080/",
          "height": 265
        }
      },
      "source": [
        "import matplotlib.pyplot as plt\n",
        "import numpy as np\n",
        "\n",
        "plt.hist((np.argmax(mnist.train.labels,axis = 1),np.argmax(mnist.test.labels,axis = 1)))\n",
        "plt.show()"
      ],
      "execution_count": 2,
      "outputs": [
        {
          "output_type": "display_data",
          "data": {
            "image/png": "[encoded data removed]",
            "text/plain": [
              "<Figure size 432x288 with 1 Axes>"
            ]
          },
          "metadata": {
            "tags": []
          }
        }
      ]
    },
    {
      "cell_type": "code",
      "metadata": {
        "id": "bxojhEJSOqhb",
        "colab_type": "code",
        "outputId": "50ffd078-611c-4b83-fecd-7825438374ac",
        "colab": {
          "base_uri": "https://localhost:8080/",
          "height": 122
        }
      },
      "source": [
        "for i in range(5):\n",
        "  plt.subplot(1, 5, i+1)\n",
        "  plt.imshow(np.squeeze(np.reshape(mnist.train.images[i], newshape=[28,28])), cmap='gray')\n",
        "  plt.title(np.argmax(mnist.train.labels[i],axis = 0))\n",
        "plt.show()"
      ],
      "execution_count": 3,
      "outputs": [
        {
          "output_type": "display_data",
          "data": {
            "image/png": "[encoded data removed]",
            "text/plain": [
              "<Figure size 432x288 with 5 Axes>"
            ]
          },
          "metadata": {
            "tags": []
          }
        }
      ]
    },
    {
      "cell_type": "code",
      "metadata": {
        "id": "vDsoBdtoP7fz",
        "colab_type": "code",
        "colab": {}
      },
      "source": [
        "def conv_net(data):\n",
        "  # print(data.get_shape())\n",
        "  # input = tf.reshape(data, [-1, 28, 28, 1])\n",
        "  # print(\"hello mr sandman\", tf.shape(data))\n",
        "  \n",
        "  # Convolutional Layer #1\n",
        "  conv1 = tf.layers.conv2d(\n",
        "      inputs=data,\n",
        "      filters=32,\n",
        "      kernel_size=[3, 3],\n",
        "      padding=\"valid\",\n",
        "      activation=tf.nn.relu)\n",
        "\n",
        "  # Convolutional Layer #2\n",
        "  conv2 = tf.layers.conv2d(\n",
        "      inputs=conv1,\n",
        "      filters=32,\n",
        "      kernel_size=[3, 3],\n",
        "      padding=\"valid\",\n",
        "      activation=tf.nn.relu)\n",
        "\n",
        "  pool1 = tf.layers.max_pooling2d(inputs=conv2, pool_size=[2, 2], strides=2)\n",
        "\n",
        "  # Convolutional Layer #3\n",
        "  conv3 = tf.layers.conv2d(\n",
        "      inputs=pool1,\n",
        "      filters=64,\n",
        "      kernel_size=[3, 3],\n",
        "      padding=\"valid\",\n",
        "      activation=tf.nn.relu)\n",
        "\n",
        "  # Convolutional Layer #4\n",
        "  conv4 = tf.layers.conv2d(\n",
        "      inputs=conv3,\n",
        "      filters=64,\n",
        "      kernel_size=[3, 3],\n",
        "      padding=\"valid\",\n",
        "      activation=tf.nn.relu)\n",
        "\n",
        "  # Convolutional Layer #5\n",
        "  conv5 = tf.layers.conv2d(\n",
        "      inputs=conv4,\n",
        "      filters=128,\n",
        "      kernel_size=[3, 3],\n",
        "      padding=\"valid\",\n",
        "      activation=tf.nn.relu)\n",
        "\n",
        "  # Convolutional Layer #6\n",
        "  conv6 = tf.layers.conv2d(\n",
        "      inputs=conv5,\n",
        "      filters=10,\n",
        "      kernel_size=[3, 3],\n",
        "      padding=\"valid\",\n",
        "      activation=tf.nn.relu)\n",
        "\n",
        "  # pool2 = tf.layers.max_pooling2d(inputs=conv6, pool_size=[4, 4], strides=4)\n",
        "  pool2 = tf.reduce_max(input_tensor = conv6, axis = [1,2])\n",
        "\n",
        "  flat = tf.reshape(pool2, [-1, 10])\n",
        "\n",
        "  # prediction\n",
        "  predictions = tf.nn.softmax(flat)\n",
        "  return predictions"
      ],
      "execution_count": 0,
      "outputs": []
    },
    {
      "cell_type": "code",
      "metadata": {
        "id": "E072aXE4Qee_",
        "colab_type": "code",
        "outputId": "044b7bd8-3ca7-4645-e176-e47e744d5f38",
        "colab": {
          "base_uri": "https://localhost:8080/",
          "height": 190
        }
      },
      "source": [
        "predictions = conv_net(mn.tf_complicater(xs))\n",
        "\n",
        "# cross_entropy = tf.reduce_mean(-tf.reduce_sum(ys * tf.log(predictions), reduction_indices=[1]))\n",
        "cross_entropy = tf.nn.softmax_cross_entropy_with_logits_v2(logits=predictions, labels=ys)\n",
        "\n",
        "train_step = tf.train.AdamOptimizer(0.001).minimize(cross_entropy)\n",
        "\n",
        "# compute the accuracy\n",
        "correct_predictions = tf.equal(tf.argmax(predictions, 1), tf.argmax(ys, 1))\n",
        "\n",
        "accuracy = tf.reduce_mean(tf.cast(correct_predictions, tf.float32))\n",
        "\n",
        "tmp = 0\n",
        "loss_log = []"
      ],
      "execution_count": 5,
      "outputs": [
        {
          "output_type": "stream",
          "text": [
            "WARNING:tensorflow:From <ipython-input-4-1e708d290c6a>:12: conv2d (from tensorflow.python.layers.convolutional) is deprecated and will be removed in a future version.\n",
            "Instructions for updating:\n",
            "Use `tf.keras.layers.Conv2D` instead.\n",
            "WARNING:tensorflow:From /usr/local/lib/python3.6/dist-packages/tensorflow_core/python/layers/convolutional.py:424: Layer.apply (from tensorflow.python.keras.engine.base_layer) is deprecated and will be removed in a future version.\n",
            "Instructions for updating:\n",
            "Please use `layer.__call__` method instead.\n",
            "WARNING:tensorflow:From <ipython-input-4-1e708d290c6a>:22: max_pooling2d (from tensorflow.python.layers.pooling) is deprecated and will be removed in a future version.\n",
            "Instructions for updating:\n",
            "Use keras.layers.MaxPooling2D instead.\n"
          ],
          "name": "stdout"
        }
      ]
    },
    {
      "cell_type": "code",
      "metadata": {
        "id": "9AN3ibf4Q7F1",
        "colab_type": "code",
        "outputId": "5668830d-aaa6-48ef-fd92-bc3fcfd22621",
        "colab": {
          "base_uri": "https://localhost:8080/",
          "height": 1000
        }
      },
      "source": [
        "import mnist_handling as mn\n",
        "import time\n",
        "t = time.clock()\n",
        "with tf.Session() as sess:\n",
        "    init = tf.global_variables_initializer()\n",
        "    sess.run(init)\n",
        "\n",
        "    for i in range(30000):\n",
        "        batch_xs, batch_ys = mnist.train.next_batch(256)\n",
        "        batch_xs = batch_xs\n",
        "        los = sess.run(cross_entropy, feed_dict={xs: batch_xs, ys: batch_ys})\n",
        "        loss_log.append(los)\n",
        "\n",
        "        sess.run(train_step, feed_dict={xs: batch_xs, ys: batch_ys})\n",
        "\n",
        "        if (i + 1) % 100 == 0:\n",
        "            \n",
        "            acc = sess.run(accuracy, feed_dict={\n",
        "                xs: mnist.test.images,\n",
        "                ys: mnist.test.labels\n",
        "            })\n",
        "            print(\"steps : %d \" % (i + 1), \"accuracy: \", acc, \"time: \", time.clock() - t, \"  \", time.clock())\n",
        "            t = time.clock()"
      ],
      "execution_count": 6,
      "outputs": [
        {
          "output_type": "stream",
          "text": [
            "steps : 100  accuracy:  0.6369 time:  6.411026    11.555954\n",
            "steps : 200  accuracy:  0.6779 time:  2.3437329999999985    13.899967\n",
            "steps : 300  accuracy:  0.6905 time:  2.432714999999998    16.333048\n",
            "steps : 400  accuracy:  0.6941 time:  2.3093010000000014    18.644028\n",
            "steps : 500  accuracy:  0.7761 time:  2.371829999999999    21.016042\n",
            "steps : 600  accuracy:  0.7862 time:  2.319966000000001    23.337479\n",
            "steps : 700  accuracy:  0.7878 time:  2.3680909999999997    25.705796\n",
            "steps : 800  accuracy:  0.7905 time:  2.324932999999998    28.030912\n",
            "steps : 900  accuracy:  0.7963 time:  2.3903890000000025    30.421522\n",
            "steps : 1000  accuracy:  0.7959 time:  2.3506220000000013    32.773615\n",
            "steps : 1100  accuracy:  0.7972 time:  2.4055950000000053    35.180659\n",
            "steps : 1200  accuracy:  0.7963 time:  2.3030370000000033    37.483906\n",
            "steps : 1300  accuracy:  0.8747 time:  2.3739550000000023    39.858146\n",
            "steps : 1400  accuracy:  0.8809 time:  2.342901000000005    42.201253\n",
            "steps : 1500  accuracy:  0.8746 time:  2.310932000000001    44.512399\n",
            "steps : 1600  accuracy:  0.8851 time:  2.383851    46.897647\n",
            "steps : 1700  accuracy:  0.8818 time:  2.345019999999998    49.242894\n",
            "steps : 1800  accuracy:  0.8846 time:  2.3965419999999966    51.639631\n",
            "steps : 1900  accuracy:  0.887 time:  2.3215450000000004    53.961859\n",
            "steps : 2000  accuracy:  0.8854 time:  2.412835000000001    56.374904\n",
            "steps : 2100  accuracy:  0.884 time:  2.361291999999999    58.737789\n",
            "steps : 2200  accuracy:  0.8887 time:  2.424635000000002    61.163908\n",
            "steps : 2300  accuracy:  0.8887 time:  2.3830099999999987    63.548492\n",
            "steps : 2400  accuracy:  0.8882 time:  2.4004930000000044    65.950164\n",
            "steps : 2500  accuracy:  0.8865 time:  2.350881000000001    68.30127\n",
            "steps : 2600  accuracy:  0.8887 time:  2.414880999999994    70.716422\n",
            "steps : 2700  accuracy:  0.8881 time:  2.3371179999999896    73.055\n",
            "steps : 2800  accuracy:  0.8886 time:  2.4175690000000003    75.473758\n",
            "steps : 2900  accuracy:  0.8878 time:  2.343429999999998    77.818661\n",
            "steps : 3000  accuracy:  0.889 time:  2.31815499999999    80.138201\n",
            "steps : 3100  accuracy:  0.8881 time:  2.3804639999999893    82.520191\n",
            "steps : 3200  accuracy:  0.98 time:  2.3096929999999958    84.831593\n",
            "steps : 3300  accuracy:  0.9777 time:  2.3619429999999966    87.195056\n",
            "steps : 3400  accuracy:  0.9787 time:  2.283721    89.479018\n",
            "steps : 3500  accuracy:  0.9742 time:  2.374430000000004    91.853615\n",
            "steps : 3600  accuracy:  0.9817 time:  2.316993999999994    94.171195\n",
            "steps : 3700  accuracy:  0.9841 time:  2.390467000000001    96.561847\n",
            "steps : 3800  accuracy:  0.9834 time:  2.3228369999999927    98.885325\n",
            "steps : 3900  accuracy:  0.9848 time:  2.3713580000000007    101.257457\n",
            "steps : 4000  accuracy:  0.9775 time:  2.316447999999994    103.575292\n",
            "steps : 4100  accuracy:  0.9828 time:  2.401034999999993    105.976543\n",
            "steps : 4200  accuracy:  0.9836 time:  2.338009999999997    108.314837\n",
            "steps : 4300  accuracy:  0.9856 time:  2.3761730000000085    110.692507\n",
            "steps : 4400  accuracy:  0.9792 time:  2.3085610000000116    113.002582\n",
            "steps : 4500  accuracy:  0.9791 time:  2.3170789999999926    115.321136\n",
            "steps : 4600  accuracy:  0.9826 time:  2.370660000000001    117.691969\n",
            "steps : 4700  accuracy:  0.9865 time:  2.323617000000013    120.016331\n",
            "steps : 4800  accuracy:  0.9845 time:  2.365321999999992    122.381825\n",
            "steps : 4900  accuracy:  0.9824 time:  2.318123    124.70013\n",
            "steps : 5000  accuracy:  0.9844 time:  2.385486    127.086309\n",
            "steps : 5100  accuracy:  0.9867 time:  2.3093139999999863    129.395823\n",
            "steps : 5200  accuracy:  0.9869 time:  2.392756999999989    131.790177\n",
            "steps : 5300  accuracy:  0.9853 time:  2.3177900000000022    134.10819\n",
            "steps : 5400  accuracy:  0.9841 time:  2.3745529999999917    136.483018\n",
            "steps : 5500  accuracy:  0.9882 time:  2.324160000000006    138.808421\n",
            "steps : 5600  accuracy:  0.985 time:  2.398951000000011    141.207563\n",
            "steps : 5700  accuracy:  0.9863 time:  2.3313660000000027    143.539153\n",
            "steps : 5800  accuracy:  0.9867 time:  2.3033939999999973    145.842734\n",
            "steps : 5900  accuracy:  0.9869 time:  2.4123620000000017    148.255659\n",
            "steps : 6000  accuracy:  0.9849 time:  2.296647000000007    150.553764\n",
            "steps : 6100  accuracy:  0.9867 time:  2.3886269999999854    152.943879\n",
            "steps : 6200  accuracy:  0.9845 time:  2.311267000000015    155.255397\n",
            "steps : 6300  accuracy:  0.984 time:  2.392751000000004    157.649546\n",
            "steps : 6400  accuracy:  0.9836 time:  2.3003789999999924    159.951309\n",
            "steps : 6500  accuracy:  0.9863 time:  2.3552350000000217    162.307921\n",
            "steps : 6600  accuracy:  0.9844 time:  2.2989290000000153    164.608275\n",
            "steps : 6700  accuracy:  0.9834 time:  2.3760699999999986    166.985705\n",
            "steps : 6800  accuracy:  0.9851 time:  2.320751999999999    169.307753\n",
            "steps : 6900  accuracy:  0.9853 time:  2.391912999999988    171.701156\n",
            "steps : 7000  accuracy:  0.9873 time:  2.3274120000000096    174.028903\n",
            "steps : 7100  accuracy:  0.987 time:  2.38234700000001    176.412895\n",
            "steps : 7200  accuracy:  0.9857 time:  2.323294000000004    178.737655\n",
            "steps : 7300  accuracy:  0.9877 time:  2.283167999999989    181.021012\n",
            "steps : 7400  accuracy:  0.9878 time:  2.383741999999984    183.406113\n",
            "steps : 7500  accuracy:  0.9884 time:  2.3248279999999966    185.731124\n",
            "steps : 7600  accuracy:  0.987 time:  2.4023169999999823    188.134084\n",
            "steps : 7700  accuracy:  0.9877 time:  2.309240999999986    190.444794\n",
            "steps : 7800  accuracy:  0.9883 time:  2.367808999999994    192.81381\n",
            "steps : 7900  accuracy:  0.9878 time:  2.334998000000013    195.148991\n",
            "steps : 8000  accuracy:  0.9869 time:  2.388629999999978    197.537856\n",
            "steps : 8100  accuracy:  0.9863 time:  2.319371000000018    199.85744\n",
            "steps : 8200  accuracy:  0.9879 time:  2.389366999999993    202.24698\n",
            "steps : 8300  accuracy:  0.9862 time:  2.3326080000000218    204.579781\n",
            "steps : 8400  accuracy:  0.9886 time:  2.411545999999987    206.991542\n",
            "steps : 8500  accuracy:  0.988 time:  2.3298940000000243    209.322001\n",
            "steps : 8600  accuracy:  0.9842 time:  2.402413999999993    211.724598\n",
            "steps : 8700  accuracy:  0.9847 time:  2.3148129999999867    214.040106\n",
            "steps : 8800  accuracy:  0.9877 time:  2.305970000000002    216.346311\n",
            "steps : 8900  accuracy:  0.9853 time:  2.3380909999999915    218.685807\n",
            "steps : 9000  accuracy:  0.983 time:  2.2997040000000197    220.985727\n",
            "steps : 9100  accuracy:  0.989 time:  2.3654630000000054    223.351378\n",
            "steps : 9200  accuracy:  0.9882 time:  2.3178020000000004    225.669356\n",
            "steps : 9300  accuracy:  0.9846 time:  2.37469999999999    228.044263\n",
            "steps : 9400  accuracy:  0.9872 time:  2.2995679999999936    230.345195\n",
            "steps : 9500  accuracy:  0.9857 time:  2.382515999999981    232.728509\n",
            "steps : 9600  accuracy:  0.985 time:  2.3251049999999793    235.054966\n",
            "steps : 9700  accuracy:  0.9846 time:  2.3650599999999997    237.421412\n",
            "steps : 9800  accuracy:  0.9834 time:  2.2736749999999972    239.695266\n",
            "steps : 9900  accuracy:  0.9848 time:  2.369135    242.065963\n",
            "steps : 10000  accuracy:  0.9855 time:  2.311647999999991    244.377914\n",
            "steps : 10100  accuracy:  0.9874 time:  2.3700979999999845    246.748198\n",
            "steps : 10200  accuracy:  0.9807 time:  2.330982000000006    249.079503\n",
            "steps : 10300  accuracy:  0.9856 time:  2.3299539999999865    251.411075\n",
            "steps : 10400  accuracy:  0.9849 time:  2.383312000000018    253.795851\n",
            "steps : 10500  accuracy:  0.9882 time:  2.320569000000006    256.117754\n",
            "steps : 10600  accuracy:  0.986 time:  2.378975999999966    258.496924\n",
            "steps : 10700  accuracy:  0.9836 time:  2.305593999999985    260.802735\n",
            "steps : 10800  accuracy:  0.9829 time:  2.4039019999999596    263.20683\n",
            "steps : 10900  accuracy:  0.9848 time:  2.313999000000024    265.52227\n",
            "steps : 11000  accuracy:  0.988 time:  2.3705770000000257    267.893033\n",
            "steps : 11100  accuracy:  0.986 time:  2.285125999999991    270.179552\n",
            "steps : 11200  accuracy:  0.987 time:  2.364036999999996    272.545066\n",
            "steps : 11300  accuracy:  0.9822 time:  2.2851249999999936    274.83166\n",
            "steps : 11400  accuracy:  0.9847 time:  2.359511999999995    277.191461\n",
            "steps : 11500  accuracy:  0.987 time:  2.2969490000000405    279.489821\n",
            "steps : 11600  accuracy:  0.9862 time:  2.283974999999998    281.773993\n",
            "steps : 11700  accuracy:  0.9854 time:  2.375633999999991    284.151033\n",
            "steps : 11800  accuracy:  0.9861 time:  2.3143210000000067    286.465551\n",
            "steps : 11900  accuracy:  0.9867 time:  2.359946999999977    288.825705\n",
            "steps : 12000  accuracy:  0.9869 time:  2.3131779999999935    291.139192\n",
            "steps : 12100  accuracy:  0.9852 time:  2.3046150000000125    293.445119\n",
            "steps : 12200  accuracy:  0.9883 time:  2.2803539999999884    295.726937\n",
            "steps : 12300  accuracy:  0.9881 time:  2.3823170000000005    298.110793\n",
            "steps : 12400  accuracy:  0.9837 time:  2.2832910000000197    300.394273\n",
            "steps : 12500  accuracy:  0.9872 time:  2.376121000000012    302.770664\n",
            "steps : 12600  accuracy:  0.9897 time:  2.3330510000000118    305.105104\n",
            "steps : 12700  accuracy:  0.9885 time:  2.352073999999959    307.457369\n",
            "steps : 12800  accuracy:  0.987 time:  2.3175790000000234    309.776517\n",
            "steps : 12900  accuracy:  0.9871 time:  2.3375750000000153    312.114307\n",
            "steps : 13000  accuracy:  0.9867 time:  2.3416839999999866    314.456198\n",
            "steps : 13100  accuracy:  0.9891 time:  2.3089789999999653    316.76672\n",
            "steps : 13200  accuracy:  0.9866 time:  2.365955999999983    319.132866\n",
            "steps : 13300  accuracy:  0.9877 time:  2.3096570000000156    321.443858\n",
            "steps : 13400  accuracy:  0.9875 time:  2.334536000000014    323.778601\n",
            "steps : 13500  accuracy:  0.9861 time:  2.322381000000007    326.101783\n",
            "steps : 13600  accuracy:  0.9866 time:  2.3908289999999965    328.492805\n",
            "steps : 13700  accuracy:  0.9846 time:  2.365243000000021    330.859178\n",
            "steps : 13800  accuracy:  0.9857 time:  2.3625260000000026    333.222866\n",
            "steps : 13900  accuracy:  0.9827 time:  2.3218250000000467    335.546086\n",
            "steps : 14000  accuracy:  0.9861 time:  2.3598629999999616    337.906173\n",
            "steps : 14100  accuracy:  0.9855 time:  2.2958849999999984    340.203107\n",
            "steps : 14200  accuracy:  0.9874 time:  2.342612000000031    342.547238\n",
            "steps : 14300  accuracy:  0.9859 time:  2.279305000000022    344.827997\n",
            "steps : 14400  accuracy:  0.9832 time:  2.3836670000000026    347.211868\n",
            "steps : 14500  accuracy:  0.9812 time:  2.334182999999996    349.546246\n",
            "steps : 14600  accuracy:  0.9857 time:  2.3177780000000325    351.864232\n",
            "steps : 14700  accuracy:  0.9844 time:  2.3593660000000227    354.225149\n",
            "steps : 14800  accuracy:  0.9842 time:  2.3049330000000054    356.53028\n",
            "steps : 14900  accuracy:  0.9862 time:  2.3780419999999935    358.908512\n",
            "steps : 15000  accuracy:  0.9882 time:  2.298466000000019    361.207173\n",
            "steps : 15100  accuracy:  0.9886 time:  2.3585639999999444    363.566591\n",
            "steps : 15200  accuracy:  0.9847 time:  2.339623999999958    365.906423\n",
            "steps : 15300  accuracy:  0.9859 time:  2.3851209999999696    368.292347\n",
            "steps : 15400  accuracy:  0.9825 time:  2.3152789999999754    370.607854\n",
            "steps : 15500  accuracy:  0.9837 time:  2.3774480000000153    372.985659\n",
            "steps : 15600  accuracy:  0.9889 time:  2.3011580000000436    375.287035\n",
            "steps : 15700  accuracy:  0.9872 time:  2.3659509999999955    377.653189\n",
            "steps : 15800  accuracy:  0.9883 time:  2.3181370000000356    379.971535\n",
            "steps : 15900  accuracy:  0.9892 time:  2.387788999999998    382.359497\n",
            "steps : 16000  accuracy:  0.9889 time:  2.3041150000000243    384.663864\n",
            "steps : 16100  accuracy:  0.9881 time:  2.3178310000000124    386.981885\n",
            "steps : 16200  accuracy:  0.9878 time:  2.3926440000000184    389.374706\n",
            "steps : 16300  accuracy:  0.9833 time:  2.3184329999999704    391.693699\n",
            "steps : 16400  accuracy:  0.9817 time:  2.380673999999999    394.074723\n",
            "steps : 16500  accuracy:  0.9874 time:  2.288295000000005    396.364364\n",
            "steps : 16600  accuracy:  0.9864 time:  2.366427999999985    398.73217\n",
            "steps : 16700  accuracy:  0.9839 time:  2.304924999999969    401.038698\n",
            "steps : 16800  accuracy:  0.978 time:  2.3941370000000006    403.433069\n",
            "steps : 16900  accuracy:  0.9803 time:  2.3439109999999914    405.777176\n",
            "steps : 17000  accuracy:  0.9786 time:  2.372445999999968    408.151149\n",
            "steps : 17100  accuracy:  0.9861 time:  2.310849000000019    410.462904\n",
            "steps : 17200  accuracy:  0.9862 time:  2.404465000000016    412.867596\n",
            "steps : 17300  accuracy:  0.9854 time:  2.318148000000008    415.187204\n",
            "steps : 17400  accuracy:  0.9876 time:  2.3243400000000065    417.511738\n",
            "steps : 17500  accuracy:  0.9829 time:  2.370533000000023    419.882474\n",
            "steps : 17600  accuracy:  0.9874 time:  2.3245810000000233    422.207229\n",
            "steps : 17700  accuracy:  0.9877 time:  2.377239999999972    424.584708\n",
            "steps : 17800  accuracy:  0.9864 time:  2.296644000000015    426.88155\n",
            "steps : 17900  accuracy:  0.9884 time:  2.3680400000000077    429.249865\n",
            "steps : 18000  accuracy:  0.9851 time:  2.2632770000000164    431.513347\n",
            "steps : 18100  accuracy:  0.9766 time:  2.3487220000000093    433.862282\n",
            "steps : 18200  accuracy:  0.987 time:  2.3022100000000023    436.16467\n",
            "steps : 18300  accuracy:  0.9854 time:  2.369150999999988    438.534688\n",
            "steps : 18400  accuracy:  0.986 time:  2.3179000000000087    440.852882\n",
            "steps : 18500  accuracy:  0.9855 time:  2.373302000000024    443.226388\n",
            "steps : 18600  accuracy:  0.9864 time:  2.3295350000000212    445.557302\n",
            "steps : 18700  accuracy:  0.9857 time:  2.4006899999999973    447.959029\n",
            "steps : 18800  accuracy:  0.9846 time:  2.320233999999971    450.279466\n",
            "steps : 18900  accuracy:  0.9765 time:  2.317003999999997    452.5978\n",
            "steps : 19000  accuracy:  0.9756 time:  2.389004    454.987041\n",
            "steps : 19100  accuracy:  0.983 time:  2.311559999999986    457.298868\n",
            "steps : 19200  accuracy:  0.9841 time:  2.384475000000009    459.683543\n",
            "steps : 19300  accuracy:  0.976 time:  2.2994360000000142    461.984229\n",
            "steps : 19400  accuracy:  0.986 time:  2.3535099999999716    464.339144\n",
            "steps : 19500  accuracy:  0.9877 time:  2.3190989999999942    466.659538\n",
            "steps : 19600  accuracy:  0.9876 time:  2.375618999999972    469.035423\n",
            "steps : 19700  accuracy:  0.9851 time:  2.318981000000008    471.354612\n",
            "steps : 19800  accuracy:  0.9796 time:  2.3796760000000177    473.735531\n",
            "steps : 19900  accuracy:  0.9836 time:  2.3144700000000284    476.050201\n",
            "steps : 20000  accuracy:  0.9848 time:  2.3918150000000082    478.442294\n",
            "steps : 20100  accuracy:  0.9852 time:  2.305056000000036    480.747545\n",
            "steps : 20200  accuracy:  0.9882 time:  2.3653600000000097    483.11312\n",
            "steps : 20300  accuracy:  0.9879 time:  2.329165000000046    485.442451\n",
            "steps : 20400  accuracy:  0.9898 time:  2.3229290000000447    487.765556\n",
            "steps : 20500  accuracy:  0.9876 time:  2.378399999999999    490.144138\n",
            "steps : 20600  accuracy:  0.9868 time:  2.3382199999999784    492.482558\n",
            "steps : 20700  accuracy:  0.9849 time:  2.3893390000000068    494.872082\n",
            "steps : 20800  accuracy:  0.9785 time:  2.328624999999988    497.200885\n",
            "steps : 20900  accuracy:  0.9841 time:  2.407485999999949    499.609955\n",
            "steps : 21000  accuracy:  0.9855 time:  2.3232039999999756    501.934719\n",
            "steps : 21100  accuracy:  0.9864 time:  2.370857000000001    504.305766\n",
            "steps : 21200  accuracy:  0.9838 time:  2.3200239999999894    506.62634\n",
            "steps : 21300  accuracy:  0.9863 time:  2.381562000000031    509.009233\n",
            "steps : 21400  accuracy:  0.9831 time:  2.291181999999992    511.300604\n",
            "steps : 21500  accuracy:  0.9814 time:  2.393606000000034    513.694432\n",
            "steps : 21600  accuracy:  0.9851 time:  2.2985009999999875    515.994594\n",
            "steps : 21700  accuracy:  0.9804 time:  2.3565939999999728    518.351378\n",
            "steps : 21800  accuracy:  0.9772 time:  2.338702000000012    520.690739\n",
            "steps : 21900  accuracy:  0.9817 time:  2.3444809999999734    523.036037\n",
            "steps : 22000  accuracy:  0.9812 time:  2.4002020000000357    525.436427\n",
            "steps : 22100  accuracy:  0.9759 time:  2.321843999999942    527.758473\n",
            "steps : 22200  accuracy:  0.9723 time:  2.3835449999999128    530.142676\n",
            "steps : 22300  accuracy:  0.9726 time:  2.3147290000000567    532.457583\n",
            "steps : 22400  accuracy:  0.9724 time:  2.3584600000000364    534.816585\n",
            "steps : 22500  accuracy:  0.9878 time:  2.3067579999999452    537.124793\n",
            "steps : 22600  accuracy:  0.9843 time:  2.3830050000000256    539.508052\n",
            "steps : 22700  accuracy:  0.9873 time:  2.3207859999999982    541.830212\n",
            "steps : 22800  accuracy:  0.9752 time:  2.366910999999959    544.198579\n",
            "steps : 22900  accuracy:  0.9845 time:  2.2941800000000967    546.494266\n",
            "steps : 23000  accuracy:  0.979 time:  2.372795999999994    548.867283\n",
            "steps : 23100  accuracy:  0.982 time:  2.298913999999968    551.167564\n",
            "steps : 23200  accuracy:  0.9823 time:  2.298419000000081    553.466168\n",
            "steps : 23300  accuracy:  0.9839 time:  2.377126999999973    555.844672\n",
            "steps : 23400  accuracy:  0.9525 time:  2.3170950000001085    558.163168\n",
            "steps : 23500  accuracy:  0.9797 time:  2.3956280000001016    560.558973\n",
            "steps : 23600  accuracy:  0.9812 time:  2.32544699999994    562.884612\n",
            "steps : 23700  accuracy:  0.9804 time:  2.3460910000000013    565.232135\n",
            "steps : 23800  accuracy:  0.9749 time:  2.3401620000000776    567.573657\n",
            "steps : 23900  accuracy:  0.9771 time:  2.4075820000000476    569.98144\n",
            "steps : 24000  accuracy:  0.9811 time:  2.301832999999988    572.284155\n",
            "steps : 24100  accuracy:  0.9784 time:  2.367796999999996    574.653348\n",
            "steps : 24200  accuracy:  0.9757 time:  2.3029339999999365    576.956471\n",
            "steps : 24300  accuracy:  0.9817 time:  2.3843460000000505    579.340989\n",
            "steps : 24400  accuracy:  0.9766 time:  2.303865999999971    581.645048\n",
            "steps : 24500  accuracy:  0.9792 time:  2.3634360000000925    584.009931\n",
            "steps : 24600  accuracy:  0.9836 time:  2.30605700000001    586.316187\n",
            "steps : 24700  accuracy:  0.9862 time:  2.3286150000000134    588.645355\n",
            "steps : 24800  accuracy:  0.987 time:  2.36081200000001    591.00754\n",
            "steps : 24900  accuracy:  0.9782 time:  2.3177180000000135    593.325435\n",
            "steps : 25000  accuracy:  0.9827 time:  2.4011169999999993    595.72818\n",
            "steps : 25100  accuracy:  0.9746 time:  2.354217999999946    598.083941\n",
            "steps : 25200  accuracy:  0.9783 time:  2.4291090000000395    600.51441\n",
            "steps : 25300  accuracy:  0.9807 time:  2.32201299999997    602.837764\n",
            "steps : 25400  accuracy:  0.9801 time:  2.3608619999999974    605.198843\n",
            "steps : 25500  accuracy:  0.982 time:  2.3038669999999684    607.50415\n",
            "steps : 25600  accuracy:  0.9833 time:  2.3865939999999455    609.890994\n",
            "steps : 25700  accuracy:  0.9727 time:  2.326505999999995    612.219029\n",
            "steps : 25800  accuracy:  0.9804 time:  2.3767380000000458    614.597116\n",
            "steps : 25900  accuracy:  0.9849 time:  2.321831999999972    616.920365\n",
            "steps : 26000  accuracy:  0.984 time:  2.3585389999999506    619.280222\n",
            "steps : 26100  accuracy:  0.988 time:  2.2893349999999373    621.57107\n",
            "steps : 26200  accuracy:  0.9823 time:  2.3114249999999856    623.882666\n",
            "steps : 26300  accuracy:  0.9834 time:  2.3540140000000065    626.238199\n",
            "steps : 26400  accuracy:  0.9779 time:  2.3050739999999905    628.543458\n",
            "steps : 26500  accuracy:  0.9793 time:  2.376655000000028    630.920285\n",
            "steps : 26600  accuracy:  0.9852 time:  2.3097799999999324    633.230244\n",
            "steps : 26700  accuracy:  0.9837 time:  2.3738050000000612    635.604228\n",
            "steps : 26800  accuracy:  0.9862 time:  2.3143420000000106    637.918746\n",
            "steps : 26900  accuracy:  0.9721 time:  2.3577830000000404    640.276714\n",
            "steps : 27000  accuracy:  0.983 time:  2.295376000000033    642.572641\n",
            "steps : 27100  accuracy:  0.9816 time:  2.348239999999919    644.922432\n",
            "steps : 27200  accuracy:  0.9763 time:  2.318516999999929    647.24236\n",
            "steps : 27300  accuracy:  0.9822 time:  2.3802630000000136    649.622797\n",
            "steps : 27400  accuracy:  0.9761 time:  2.3014530000000377    651.925707\n",
            "steps : 27500  accuracy:  0.9825 time:  2.312379999999962    654.238271\n",
            "steps : 27600  accuracy:  0.9827 time:  2.373408999999924    656.611925\n",
            "steps : 27700  accuracy:  0.9848 time:  2.3057509999999866    658.91785\n",
            "steps : 27800  accuracy:  0.9854 time:  2.3737820000000056    661.291827\n",
            "steps : 27900  accuracy:  0.9766 time:  2.2957079999999905    663.58798\n",
            "steps : 28000  accuracy:  0.9828 time:  2.3778749999999036    665.966076\n",
            "steps : 28100  accuracy:  0.9821 time:  2.2823150000000396    668.248608\n",
            "steps : 28200  accuracy:  0.9749 time:  2.3984480000000303    670.647279\n",
            "steps : 28300  accuracy:  0.9708 time:  2.341803999999911    672.989305\n",
            "steps : 28400  accuracy:  0.9673 time:  2.3558590000000095    675.346366\n",
            "steps : 28500  accuracy:  0.9779 time:  2.3324479999999994    677.678986\n",
            "steps : 28600  accuracy:  0.9689 time:  2.3686159999999745    680.047834\n",
            "steps : 28700  accuracy:  0.9839 time:  2.316090000000031    682.364144\n",
            "steps : 28800  accuracy:  0.9856 time:  2.406213999999977    684.771992\n",
            "steps : 28900  accuracy:  0.9803 time:  2.3029769999999417    687.076397\n",
            "steps : 29000  accuracy:  0.9714 time:  2.2997629999999845    689.377621\n",
            "steps : 29100  accuracy:  0.9801 time:  2.3694560000000138    691.748256\n",
            "steps : 29200  accuracy:  0.9812 time:  2.2823450000000776    694.032096\n",
            "steps : 29300  accuracy:  0.9764 time:  2.3680269999999837    696.400298\n",
            "steps : 29400  accuracy:  0.9809 time:  2.298091999999997    698.699681\n",
            "steps : 29500  accuracy:  0.9799 time:  2.398050000000012    701.097929\n",
            "steps : 29600  accuracy:  0.9599 time:  2.3252279999999246    703.424458\n",
            "steps : 29700  accuracy:  0.9787 time:  2.3517989999999145    705.777583\n",
            "steps : 29800  accuracy:  0.9784 time:  2.316022999999973    708.094884\n",
            "steps : 29900  accuracy:  0.9763 time:  2.3503500000000486    710.445464\n",
            "steps : 30000  accuracy:  0.9787 time:  2.3422689999999875    712.789149\n"
          ],
          "name": "stdout"
        }
      ]
    },
    {
      "cell_type": "code",
      "metadata": {
        "id": "fYW8J7ftRUKZ",
        "colab_type": "code",
        "outputId": "41d9250a-d9df-4607-ae7c-6435e4d002b1",
        "colab": {
          "base_uri": "https://localhost:8080/",
          "height": 265
        }
      },
      "source": [
        "plt.plot([a.mean() for a in loss_log])\n",
        "plt.show()"
      ],
      "execution_count": 7,
      "outputs": [
        {
          "output_type": "display_data",
          "data": {
            "image/png": "[encoded data removed]",
            "text/plain": [
              "<Figure size 432x288 with 1 Axes>"
            ]
          },
          "metadata": {
            "tags": []
          }
        }
      ]
    },
    {
      "cell_type": "code",
      "metadata": {
        "id": "SNuo_M_jqlQH",
        "colab_type": "code",
        "outputId": "8ea95d33-f632-4edc-f43e-969c0a13eb97",
        "colab": {
          "base_uri": "https://localhost:8080/",
          "height": 129
        }
      },
      "source": [
        "from skimage.transform import resize\n",
        "im = batch_xs[13,:,:,0].copy()\n",
        "# for i in range(len(im)):\n",
        "#   for j in range(len(im[i])):\n",
        "#     # im[i,j] = im[i,j]\n",
        "#     im[i,j] = im[i,j] + random.gauss(0,0.1) \n",
        "\n",
        "im = resize\n",
        "(batch_xs, output_shape =  (256,40,40,1), anti_aliasing=False)\n",
        "plt.imshow(np.squeeze(im[3,:,:,0]), cmap='gray')"
      ],
      "execution_count": 8,
      "outputs": [
        {
          "output_type": "error",
          "ename": "SyntaxError",
          "evalue": "ignored",
          "traceback": [
            "\u001b[0;36m  File \u001b[0;32m\"<ipython-input-8-08571ac8a5b6>\"\u001b[0;36m, line \u001b[0;32m9\u001b[0m\n\u001b[0;31m    (batch_xs, output_shape =  (256,40,40,1), anti_aliasing=False)\u001b[0m\n\u001b[0m                            ^\u001b[0m\n\u001b[0;31mSyntaxError\u001b[0m\u001b[0;31m:\u001b[0m invalid syntax\n"
          ]
        }
      ]
    },
    {
      "cell_type": "code",
      "metadata": {
        "id": "ZlspImK4orcs",
        "colab_type": "code",
        "colab": {}
      },
      "source": [
        "5*1.75"
      ],
      "execution_count": 0,
      "outputs": []
    }
  ]
}